{
 "cells": [
  {
   "cell_type": "markdown",
   "metadata": {},
   "source": [
    "# Assignment 01\n",
    "\n",
    "\n",
    "![http://www.pratt.edu/tiny_mce/plugins/imagemanager/files/Light_brown_blue22.jpg](http://www.pratt.edu/tiny_mce/plugins/imagemanager/files/Light_brown_blue22.jpg)"
   ]
  },
  {
   "cell_type": "markdown",
   "metadata": {
    "toc": true
   },
   "source": [
    "<h1>Table of Contents<span class=\"tocSkip\"></span></h1>\n",
    "<div class=\"toc\"><ul class=\"toc-item\"><li><span><a href=\"#Assignment-01\" data-toc-modified-id=\"Assignment-01-1\">Assignment 01</a></span><ul class=\"toc-item\"><li><span><a href=\"#Instructions\" data-toc-modified-id=\"Instructions-1.1\">Instructions</a></span><ul class=\"toc-item\"><li><span><a href=\"#Create-a-Borough-Codes-Dictionary\" data-toc-modified-id=\"Create-a-Borough-Codes-Dictionary-1.1.1\">Create a Borough Codes Dictionary</a></span><ul class=\"toc-item\"><li><span><a href=\"#Evaluate:\" data-toc-modified-id=\"Evaluate:-1.1.1.1\">Evaluate:</a></span></li></ul></li><li><span><a href=\"#Create-a-more-fully-featured-Borough-Dictionary\" data-toc-modified-id=\"Create-a-more-fully-featured-Borough-Dictionary-1.1.2\">Create a more fully-featured Borough Dictionary</a></span><ul class=\"toc-item\"><li><span><a href=\"#Evaluate:\" data-toc-modified-id=\"Evaluate:-1.1.2.1\">Evaluate:</a></span></li></ul></li><li><span><a href=\"#Adding-even-more-data-to-the-Borough-Dictionary\" data-toc-modified-id=\"Adding-even-more-data-to-the-Borough-Dictionary-1.1.3\">Adding even more data to the Borough Dictionary</a></span><ul class=\"toc-item\"><li><span><a href=\"#You've-been-asked-to-add-all-of-this-data-to-your-boro_data-Dictionary-with-a-For-Loop.\" data-toc-modified-id=\"You've-been-asked-to-add-all-of-this-data-to-your-boro_data-Dictionary-with-a-For-Loop.-1.1.3.1\">You've been asked to add all of this data to your <strong>boro_data</strong> Dictionary with a For Loop.</a></span></li><li><span><a href=\"#Also-recall,-how-we-add-a-key-value-pair-to-a-Dictionary:\" data-toc-modified-id=\"Also-recall,-how-we-add-a-key-value-pair-to-a-Dictionary:-1.1.3.2\">Also recall, how we add a key value pair to a Dictionary:</a></span></li><li><span><a href=\"#Now-adding-Chris-who-plays-bass.\" data-toc-modified-id=\"Now-adding-Chris-who-plays-bass.-1.1.3.3\">Now adding Chris who plays bass.</a></span></li><li><span><a href=\"#Now-your-turn:\" data-toc-modified-id=\"Now-your-turn:-1.1.3.4\">Now your turn:</a></span></li><li><span><a href=\"#Evaluate:\" data-toc-modified-id=\"Evaluate:-1.1.3.5\">Evaluate:</a></span></li></ul></li><li><span><a href=\"#Create-a-plotting-function.\" data-toc-modified-id=\"Create-a-plotting-function.-1.1.4\">Create a plotting function.</a></span><ul class=\"toc-item\"><li><span><a href=\"#We-need-to-take-in-either-Population-or-Land-Area-as-an-Argument,-and-plot-a-bar-plot-for-those-values-associated-with-that-data-category-Argument-we-take-in-(i.e.-Population-or-Land-Area)-.\" data-toc-modified-id=\"We-need-to-take-in-either-Population-or-Land-Area-as-an-Argument,-and-plot-a-bar-plot-for-those-values-associated-with-that-data-category-Argument-we-take-in-(i.e.-Population-or-Land-Area)-.-1.1.4.1\">We need to take in either Population or Land Area as an Argument, and plot a bar plot for those values associated with that data category Argument we take in (i.e. Population or Land Area) .</a></span></li><li><span><a href=\"#Evaluate:\" data-toc-modified-id=\"Evaluate:-1.1.4.2\">Evaluate:</a></span></li><li><span><a href=\"#Your-plot-should-look-something-like-this:\" data-toc-modified-id=\"Your-plot-should-look-something-like-this:-1.1.4.3\">Your plot should look something like this:</a></span></li><li><span><a href=\"#Your-plot-should-look-something-like-this:\" data-toc-modified-id=\"Your-plot-should-look-something-like-this:-1.1.4.4\">Your plot should look something like this:</a></span></li></ul></li></ul></li></ul></li></ul></div>"
   ]
  },
  {
   "cell_type": "markdown",
   "metadata": {},
   "source": [
    "## Instructions\n",
    "\n",
    "---\n",
    "\n",
    "You are a new hire in NYC Government's new Department of Geospatial Technology. Your manager has asked you to complete the following assignments. \n"
   ]
  },
  {
   "cell_type": "markdown",
   "metadata": {},
   "source": [
    "### Create a Borough Codes Dictionary\n",
    "\n",
    "According to the [BYTES of the BIG APPLE™ Property Address Directory (PAD)](https://www1.nyc.gov/assets/planning/download/pdf/data-maps/open-data/padgui.pdf?r=16d) document:\n",
    "\n",
    "> Boroughs are identified in PAD by a standard one-digit borough code.\n",
    "* 1 = Manhattan\n",
    "* 2 = The Bronx\n",
    "* 3 = Brooklyn\n",
    "* 4 = Queens\n",
    "* 5 = Staten Island \n",
    "\n",
    "> Source: https://www1.nyc.gov/assets/planning/download/pdf/data-maps/open-data/padgui.pdf\n",
    "\n",
    "Your task is to create a dictionary (something we covered in [lesson_01](https://github.com/pratt-savi-810/pratt-savi-810-2020-03-lesson_01/blob/master/completed/lesson_01_completed.ipynb)) such that if you access the dictionary key with the **Borough name**, you can get the **Borough Code** value. \n",
    "\n",
    "Please name the dictionary variable: **borocode_lookup**\n",
    "\n",
    "```python\n",
    "\n",
    "borocode_lookup = {\n",
    "    'Manhattan': ...   \n",
    "}\n",
    "\n",
    "```\n",
    "\n",
    "**Please Note**: I'd like for you to use the Borough name \"Bronx\" rather than \"The Bronx\". "
   ]
  },
  {
   "cell_type": "code",
   "execution_count": 5,
   "metadata": {},
   "outputs": [],
   "source": [
    "borocode_lookup = {\n",
    "    'Manhattan' : 1,\n",
    "    'Bronx' : 2,\n",
    "    'Brooklyn' : 3,\n",
    "    'Queens' : 4,\n",
    "    'Staten Island' : 5\n",
    "}"
   ]
  },
  {
   "cell_type": "markdown",
   "metadata": {},
   "source": [
    "#### Evaluate:\n",
    "Here we have some pre-canned code cells to make sure your dictionary was created correctly. Run these cells on your own, they should all evaluate as `True`. "
   ]
  },
  {
   "cell_type": "code",
   "execution_count": 2,
   "metadata": {},
   "outputs": [
    {
     "data": {
      "text/plain": [
       "True"
      ]
     },
     "execution_count": 2,
     "metadata": {},
     "output_type": "execute_result"
    }
   ],
   "source": [
    "borocode_lookup['Manhattan'] == 1 "
   ]
  },
  {
   "cell_type": "code",
   "execution_count": 3,
   "metadata": {},
   "outputs": [
    {
     "data": {
      "text/plain": [
       "True"
      ]
     },
     "execution_count": 3,
     "metadata": {},
     "output_type": "execute_result"
    }
   ],
   "source": [
    "# Note the instructions above, the dictionary key should be \"Bronx\" not \"The Bronx\"\n",
    "borocode_lookup['Bronx'] == 2   "
   ]
  },
  {
   "cell_type": "code",
   "execution_count": 6,
   "metadata": {},
   "outputs": [
    {
     "data": {
      "text/plain": [
       "True"
      ]
     },
     "execution_count": 6,
     "metadata": {},
     "output_type": "execute_result"
    }
   ],
   "source": [
    "borocode_lookup['Brooklyn'] == 3"
   ]
  },
  {
   "cell_type": "code",
   "execution_count": 7,
   "metadata": {},
   "outputs": [
    {
     "data": {
      "text/plain": [
       "True"
      ]
     },
     "execution_count": 7,
     "metadata": {},
     "output_type": "execute_result"
    }
   ],
   "source": [
    "borocode_lookup['Queens'] == 4"
   ]
  },
  {
   "cell_type": "code",
   "execution_count": 8,
   "metadata": {},
   "outputs": [
    {
     "data": {
      "text/plain": [
       "True"
      ]
     },
     "execution_count": 8,
     "metadata": {},
     "output_type": "execute_result"
    }
   ],
   "source": [
    "borocode_lookup['Staten Island'] == 5"
   ]
  },
  {
   "cell_type": "markdown",
   "metadata": {},
   "source": [
    "### Create a more fully-featured Borough Dictionary\n",
    "\n",
    "Your manager has distributed this dictionary across the Geospatial Technology team and has seen value in using this dictionary method in other applications. You've been asked to increase the functionality of this dictionary. \n",
    "\n",
    "In addition to **Borough Code**, the next peice of data you need to add to your dictionary is **Population**. \n",
    "\n",
    "Let's use the following population counts and add these as values to your Dictionary. \n",
    "\n",
    "| Borough Name | Population Count  |\n",
    "|---|---|\n",
    "| Brooklyn | 2_582_830  |\n",
    "| Bronx | 1_432_132  |\n",
    "| Manhattan   | 1_628_701  |\n",
    "| Queens  | 2_278_906  |\n",
    "| Staten Island  | 476_179  | \n",
    "\n",
    "\n",
    "\n",
    "_<center>Source: https://www.citypopulation.de/en/usa/newyorkcity/ </center>_\n",
    "\n",
    "Please name the dictionary variable: **boro_data**\n",
    "\n",
    "```python\n",
    "\n",
    "boro_data = {\n",
    "    \"Manhattan\": {\n",
    "        \"borocode\": 1,\n",
    "        \"population\": 1_628_701,\n",
    "    },\n",
    "    \"Bronx\" : { ... }\n",
    "    ...\n",
    "}\n",
    "\n",
    "```\n",
    "\n",
    "**Please Note**: I'd like for you to use the Borough name \"Bronx\" rather than \"The Bronx\". \n"
   ]
  },
  {
   "cell_type": "code",
   "execution_count": 14,
   "metadata": {},
   "outputs": [],
   "source": [
    "boro_data = {\n",
    "    \"Manhattan\": {\n",
    "        \"borocode\" : 1,\n",
    "        \"population\" : 1_628_701,\n",
    "    },\n",
    "    \"Bronx\": {\n",
    "        'borocode': 2,\n",
    "        'population': 1_432_132,\n",
    "    },\n",
    "    \"Brooklyn\": {\n",
    "        'borocode': 3,\n",
    "        'population': 2_582_830,\n",
    "    },\n",
    "    \"Queens\": {\n",
    "        'borocode': 4,\n",
    "        'population': 2_278_906,\n",
    "    },\n",
    "    \"Staten Island\": {\n",
    "        'borocode': 5,\n",
    "        'population': 476_179,\n",
    "    }\n",
    "}"
   ]
  },
  {
   "cell_type": "markdown",
   "metadata": {},
   "source": [
    "#### Evaluate:\n",
    "Here we have some pre-canned code cells to make sure your dictionary was created correctly. Run these cells on your own, they should all evaluate as `True`. "
   ]
  },
  {
   "cell_type": "code",
   "execution_count": 10,
   "metadata": {},
   "outputs": [
    {
     "data": {
      "text/plain": [
       "True"
      ]
     },
     "execution_count": 10,
     "metadata": {},
     "output_type": "execute_result"
    }
   ],
   "source": [
    "boro_data['Staten Island']['borocode'] == 5"
   ]
  },
  {
   "cell_type": "code",
   "execution_count": 11,
   "metadata": {},
   "outputs": [
    {
     "data": {
      "text/plain": [
       "True"
      ]
     },
     "execution_count": 11,
     "metadata": {},
     "output_type": "execute_result"
    }
   ],
   "source": [
    "boro_data['Staten Island']['population'] == 476_179"
   ]
  },
  {
   "cell_type": "code",
   "execution_count": 12,
   "metadata": {},
   "outputs": [
    {
     "data": {
      "text/plain": [
       "True"
      ]
     },
     "execution_count": 12,
     "metadata": {},
     "output_type": "execute_result"
    }
   ],
   "source": [
    "boro_data['Manhattan']['population'] == 1_628_701"
   ]
  },
  {
   "cell_type": "code",
   "execution_count": 15,
   "metadata": {},
   "outputs": [
    {
     "data": {
      "text/plain": [
       "True"
      ]
     },
     "execution_count": 15,
     "metadata": {},
     "output_type": "execute_result"
    }
   ],
   "source": [
    "boro_data['Queens']['borocode'] == 4"
   ]
  },
  {
   "cell_type": "code",
   "execution_count": 16,
   "metadata": {},
   "outputs": [
    {
     "data": {
      "text/plain": [
       "True"
      ]
     },
     "execution_count": 16,
     "metadata": {},
     "output_type": "execute_result"
    }
   ],
   "source": [
    "boro_data['Brooklyn']['population'] == 2_582_830"
   ]
  },
  {
   "cell_type": "markdown",
   "metadata": {},
   "source": [
    "### Adding even more data to the Borough Dictionary\n",
    "\n",
    "Your colleague has a list of Borough Names along with the Borough Land Area (Square Kilometers), your manager has asked you to append a key called **land_area_sqkm** to your **boro_data** dictionary. \n",
    "\n",
    "```python\n",
    "land_area_sqkm_list = [\n",
    "    [\"Manhattan\",      59.13],\n",
    "    [\"Bronx\",         109.04],\n",
    "    [\"Brooklyn\",      183.42],\n",
    "    [\"Queens\",        281.09],\n",
    "    [\"Staten Island\", 151.08],\n",
    "]\n",
    "```\n",
    "\n",
    "Source: https://en.wikipedia.org/wiki/Template:NYC_boroughs\n"
   ]
  },
  {
   "cell_type": "code",
   "execution_count": 17,
   "metadata": {},
   "outputs": [],
   "source": [
    "# the given data\n",
    "land_area_sqkm_list = [\n",
    "    [\"Manhattan\",      59.13],\n",
    "    [\"Bronx\",         109.04],\n",
    "    [\"Brooklyn\",      183.42],\n",
    "    [\"Queens\",        281.09],\n",
    "    [\"Staten Island\", 151.08],\n",
    "]"
   ]
  },
  {
   "cell_type": "markdown",
   "metadata": {},
   "source": [
    "#### You've been asked to add all of this data to your **boro_data** Dictionary with a For Loop. \n",
    "\n",
    "We've used For Loops in [lesson_02](https://github.com/pratt-savi-810/pratt-savi-810-2020-03-lesson_02/blob/master/completed/lesson_02_completed.ipynb). \n"
   ]
  },
  {
   "cell_type": "code",
   "execution_count": 18,
   "metadata": {},
   "outputs": [
    {
     "name": "stdout",
     "output_type": "stream",
     "text": [
      "Manhattan : 59.13\n",
      "Bronx : 109.04\n",
      "Brooklyn : 183.42\n",
      "Queens : 281.09\n",
      "Staten Island : 151.08\n"
     ]
    }
   ],
   "source": [
    "# You've been supplied this code to view how to access a list within a list. \n",
    "for row in land_area_sqkm_list:\n",
    "    borough = row[0]\n",
    "    area = row[1]\n",
    "    \n",
    "    print(borough, ':', area)"
   ]
  },
  {
   "cell_type": "markdown",
   "metadata": {},
   "source": [
    "#### Also recall, how we add a key value pair to a Dictionary:"
   ]
  },
  {
   "cell_type": "code",
   "execution_count": 19,
   "metadata": {},
   "outputs": [
    {
     "data": {
      "text/plain": [
       "{'MMW': {'Billy': 'drums', 'John': 'keyboards'}}"
      ]
     },
     "execution_count": 19,
     "metadata": {},
     "output_type": "execute_result"
    }
   ],
   "source": [
    "sample_dict = {\n",
    "    \"MMW\": {\n",
    "        \"Billy\": \"drums\",\n",
    "        \"John\": \"keyboards\",\n",
    "    }\n",
    "}\n",
    "\n",
    "sample_dict"
   ]
  },
  {
   "cell_type": "markdown",
   "metadata": {},
   "source": [
    "#### Now adding Chris who plays bass. "
   ]
  },
  {
   "cell_type": "code",
   "execution_count": 20,
   "metadata": {},
   "outputs": [
    {
     "data": {
      "text/plain": [
       "{'MMW': {'Billy': 'drums', 'John': 'keyboards', 'Chris': 'bass'}}"
      ]
     },
     "execution_count": 20,
     "metadata": {},
     "output_type": "execute_result"
    }
   ],
   "source": [
    "sample_dict['MMW']['Chris'] = 'bass'\n",
    "\n",
    "sample_dict"
   ]
  },
  {
   "cell_type": "markdown",
   "metadata": {},
   "source": [
    "#### Now your turn:\n",
    "\n",
    "Remember the key name for this data should be **land_area_sqkm**."
   ]
  },
  {
   "cell_type": "code",
   "execution_count": 23,
   "metadata": {},
   "outputs": [],
   "source": [
    "for row in land_area_sqkm_list:\n",
    "    borough = row[0]\n",
    "    area = row[1]\n",
    "    boro_data[borough]['land_area_sqkm'] = area"
   ]
  },
  {
   "cell_type": "markdown",
   "metadata": {},
   "source": [
    "#### Evaluate:\n",
    "Here we have some pre-canned code cells to make sure your dictionary was created correctly. Run these cells on your own, they should all evaluate as `True`. "
   ]
  },
  {
   "cell_type": "code",
   "execution_count": 26,
   "metadata": {},
   "outputs": [
    {
     "name": "stdout",
     "output_type": "stream",
     "text": [
      "True\n",
      "True\n",
      "True\n",
      "True\n",
      "True\n",
      "{'Manhattan': {'borocode': 1, 'population': 1628701, 'land_area_sqkm': 59.13}, 'Bronx': {'borocode': 2, 'population': 1432132, 'land_area_sqkm': 109.04}, 'Brooklyn': {'borocode': 3, 'population': 2582830, 'land_area_sqkm': 183.42}, 'Queens': {'borocode': 4, 'population': 2278906, 'land_area_sqkm': 281.09}, 'Staten Island': {'borocode': 5, 'population': 476179, 'land_area_sqkm': 151.08}}\n"
     ]
    }
   ],
   "source": [
    "for row in land_area_sqkm_list:\n",
    "    \n",
    "    borough = row[0]\n",
    "    area = row[1]\n",
    "    \n",
    "    print(boro_data[borough]['land_area_sqkm'] == area)\n",
    "    \n",
    "print(boro_data)"
   ]
  },
  {
   "cell_type": "markdown",
   "metadata": {},
   "source": [
    "### Create a plotting function. \n",
    "\n",
    "The entire team is starting to leverage this dictionary in their workflow. One new idea from your manager is to create a bar plotting function to be able to view numerical data from the **boro_data** dictionary quickly and easily. \n",
    "\n",
    "The Python library we've been asked to use to generate these plots with is the [Matplotlib](https://matplotlib.org/) Python Library.\n",
    "\n",
    "> Matplotlib is a comprehensive library for creating static, animated, and interactive visualizations in Python. Source: https://matplotlib.org\n",
    "\n",
    "Below we'll see an example of a plot using a dictionary of data. "
   ]
  },
  {
   "cell_type": "code",
   "execution_count": 27,
   "metadata": {},
   "outputs": [
    {
     "name": "stderr",
     "output_type": "stream",
     "text": [
      "\n",
      "CondaValueError: invalid package specification: #\n",
      "\n"
     ]
    }
   ],
   "source": [
    "!conda install matplotlib  # run this code in case you don't have matplotlib installed. "
   ]
  },
  {
   "cell_type": "code",
   "execution_count": 31,
   "metadata": {},
   "outputs": [],
   "source": [
    "import matplotlib"
   ]
  },
  {
   "cell_type": "code",
   "execution_count": 32,
   "metadata": {},
   "outputs": [
    {
     "name": "stdout",
     "output_type": "stream",
     "text": [
      "Collecting package metadata (current_repodata.json): ...working... done\n",
      "Solving environment: ...working... done\n",
      "\n",
      "# All requested packages already installed.\n",
      "\n"
     ]
    }
   ],
   "source": [
    "!conda install -c sepandhaghighi art --yes"
   ]
  },
  {
   "cell_type": "code",
   "execution_count": 28,
   "metadata": {},
   "outputs": [
    {
     "data": {
      "image/png": "[encoded data removed]",
      "text/plain": [
       "<Figure size 432x288 with 1 Axes>"
      ]
     },
     "metadata": {
      "needs_background": "light"
     },
     "output_type": "display_data"
    }
   ],
   "source": [
    "import matplotlib.pyplot as plt\n",
    "%matplotlib inline  \n",
    "# this allows us to see the plot in Jupyter Notebook \n",
    "\n",
    "d = {\n",
    "    'Python Class':     26, \n",
    "    'Javascript Class': 17, \n",
    "    'R Class':           4,\n",
    "}\n",
    "\n",
    "data = list(d.values())\n",
    "x_labels = list(d.keys())\n",
    "\n",
    "plt.bar(\n",
    "    range(len(d)), \n",
    "    data, \n",
    "    align='center',\n",
    ")\n",
    "\n",
    "plt.xticks(\n",
    "    range(len(d)), \n",
    "    x_labels,\n",
    ")\n",
    "\n",
    "plt.show()"
   ]
  },
  {
   "cell_type": "markdown",
   "metadata": {},
   "source": [
    "#### We need to take in either Population or Land Area as an Argument, and plot a bar plot for those values associated with that data category Argument we take in (i.e. Population or Land Area) . \n",
    "\n",
    "The function name should be called `boro_data_bar_plot( )` and will take the following arguments: \n",
    "\n",
    "```python\n",
    "boro_data_bar_plot(data_dict, data_category)\n",
    "```\n",
    "\n",
    "Additionally, it should take a default argument of `'population'`. \n",
    "\n",
    "```python\n",
    "boro_data_bar_plot(data_dict, data_category='population')\n",
    "```\n",
    "\n",
    "\n",
    "Let's get started: "
   ]
  },
  {
   "cell_type": "code",
   "execution_count": null,
   "metadata": {},
   "outputs": [],
   "source": [
    "def boro_data_bar_plot(data_dict, data_category='population'):\n",
    "    data = []  # creates an empty list -> population or land_area_sqkm\n",
    "    x_labels = []  # creates an empty list -> borough\n",
    "    \n",
    "    for k, v in data_dict.items():\n",
    "        ### your code here\n",
    "        ### your code here\n",
    "        ### your code here\n",
    "    \n",
    "    plt.bar(\n",
    "        ### your code here\n",
    "        ### your code here\n",
    "        ### your code here\n",
    "    )\n",
    "\n",
    "    plt.xticks(\n",
    "        ### your code here\n",
    "        ### your code here\n",
    "        ### your code here\n",
    "    )\n",
    "    \n",
    "    plt.show()"
   ]
  },
  {
   "cell_type": "markdown",
   "metadata": {},
   "source": [
    "#### Evaluate:\n",
    "Here we have some pre-canned images below to reference to make sure your dictionary was created correctly. "
   ]
  },
  {
   "cell_type": "code",
   "execution_count": null,
   "metadata": {},
   "outputs": [],
   "source": [
    "boro_data_bar_plot(boro_data, data_category='population')  # run this cell "
   ]
  },
  {
   "cell_type": "markdown",
   "metadata": {},
   "source": [
    "#### Your plot should look something like this: \n",
    "\n",
    "![](https://raw.githubusercontent.com/pratt-savi-810/images/master/assignment_01_population.png)"
   ]
  },
  {
   "cell_type": "code",
   "execution_count": null,
   "metadata": {},
   "outputs": [],
   "source": [
    "boro_data_bar_plot(boro_data, data_category='land_area_sqkm')  # run this cell "
   ]
  },
  {
   "cell_type": "markdown",
   "metadata": {},
   "source": [
    "#### Your plot should look something like this: \n",
    "\n",
    "![](https://raw.githubusercontent.com/pratt-savi-810/images/master/assignment_01_land_area_sqkm.png)"
   ]
  }
 ],
 "metadata": {
  "kernelspec": {
   "display_name": "Python 3",
   "language": "python",
   "name": "python3"
  },
  "language_info": {
   "codemirror_mode": {
    "name": "ipython",
    "version": 3
   },
   "file_extension": ".py",
   "mimetype": "text/x-python",
   "name": "python",
   "nbconvert_exporter": "python",
   "pygments_lexer": "ipython3",
   "version": "3.7.6"
  },
  "toc": {
   "base_numbering": 1,
   "nav_menu": {},
   "number_sections": false,
   "sideBar": true,
   "skip_h1_title": false,
   "title_cell": "Table of Contents",
   "title_sidebar": "Contents",
   "toc_cell": true,
   "toc_position": {},
   "toc_section_display": true,
   "toc_window_display": true
  }
 },
 "nbformat": 4,
 "nbformat_minor": 2
}
